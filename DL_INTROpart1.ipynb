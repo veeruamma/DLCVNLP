{
  "nbformat": 4,
  "nbformat_minor": 0,
  "metadata": {
    "kernelspec": {
      "display_name": "Python 3",
      "language": "python",
      "name": "python3"
    },
    "language_info": {
      "codemirror_mode": {
        "name": "ipython",
        "version": 3
      },
      "file_extension": ".py",
      "mimetype": "text/x-python",
      "name": "python",
      "nbconvert_exporter": "python",
      "pygments_lexer": "ipython3",
      "version": "3.7.6"
    },
    "colab": {
      "name": "DL_INTROpart1.ipynb",
      "provenance": [],
      "include_colab_link": true
    }
  },
  "cells": [
    {
      "cell_type": "markdown",
      "metadata": {
        "id": "view-in-github",
        "colab_type": "text"
      },
      "source": [
        "<a href=\"https://colab.research.google.com/github/veeruamma/DLCVNLP/blob/main/DL_INTROpart1.ipynb\" target=\"_parent\"><img src=\"https://colab.research.google.com/assets/colab-badge.svg\" alt=\"Open In Colab\"/></a>"
      ]
    },
    {
      "cell_type": "markdown",
      "metadata": {
        "id": "57t-1pLDtgX2"
      },
      "source": [
        "# Deep learning"
      ]
    },
    {
      "cell_type": "markdown",
      "metadata": {
        "id": "wHax71bHtgYc"
      },
      "source": [
        "## Introduction"
      ]
    },
    {
      "cell_type": "markdown",
      "metadata": {
        "id": "zqSaw9zbtgYf"
      },
      "source": [
        "* To understand what deep learning is, we first need to understand the relationship deep learning has with machine learning, neural networks, and artificial intelligence. The best way to think of this relationship is to visualize them as concentric circles:\n",
        "\n",
        "[image source](https://www.safaribooksonline.com/library/view/deep-learning/9781491924570/assets/dpln_0101.png)\n",
        "\n",
        "<img src=\"https://www.safaribooksonline.com/library/view/deep-learning/9781491924570/assets/dpln_0101.png\" width=50%>\n",
        "\n",
        "* At the outer most ring you have artificial intelligence (using computers to reason). One layer inside of that is machine learning. With artificial neural networks and deep learning at the center.\n",
        "\n",
        "* *Broadly speaking, deep learning is a more approachable name for an artificial neural network. The “deep” in deep learning refers to the depth of the network. An artificial neural network can be very shallow.*"
      ]
    },
    {
      "cell_type": "markdown",
      "metadata": {
        "id": "fZ2eqdIwtgYl"
      },
      "source": [
        "* Neural networks are inspired by the structure of the cerebral cortex. At the basic level is the perceptron, the mathematical representation of a biological neuron. Like in the cerebral cortex, there can be several layers of interconnected perceptrons.\n",
        "\n",
        "* Machine learning is considered a branch or approach of Artificial intelligence, whereas deep learning is a specialized type of machine learning."
      ]
    },
    {
      "cell_type": "markdown",
      "metadata": {
        "id": "Z-73VOzstgYo"
      },
      "source": [
        "## Why Deep Learning is Important?\n",
        "\n",
        "[image source](https://image.slidesharecdn.com/andrew-ng-extract-oct2015-nonotes-151124104249-lva1-app6891/95/andrew-ng-chief-scientist-at-baidu-30-638.jpg?cb=1448361887)\n",
        "\n",
        "<img src=\"https://image.slidesharecdn.com/andrew-ng-extract-oct2015-nonotes-151124104249-lva1-app6891/95/andrew-ng-chief-scientist-at-baidu-30-638.jpg?cb=1448361887\">\n",
        "\n",
        "* Computers have long had techniques for recognizing features inside of images. The results weren’t always great. **Computer vision** has been a main beneficiary of deep learning. Computer vision using deep learning now rivals humans on many image recognition tasks.\n",
        "\n",
        "* **Facebook** has had great success with **identifying faces** in photographs by using deep learning. It’s not just a marginal improvement, but a game changer: “Asked whether two unfamiliar photos of faces show the same person, a human being will get it right 97.53 percent of the time. New software developed by researchers at Facebook can score 97.25 percent on the same challenge, regardless of variations in lighting or whether the person in the picture is directly facing the camera.”\n",
        "\n",
        "* **Speech recognition** is a another area that’s felt deep learning’s impact. Spoken languages are so vast and ambiguous. Baidu – one of the leading search engines of China – has developed a voice recognition system that is faster and more accurate than humans at producing text on a mobile phone. In both English and Mandarin.\n",
        "\n",
        "* What is particularly fascinating, is that generalizing the two languages didn’t require much additional design effort: “Historically, people viewed Chinese and English as two vastly different languages, and so there was a need to design very different features,” Andrew Ng says, chief scientist at Baidu. “The learning algorithms are now so general that you can just learn.”\n",
        "\n",
        "* **Google** is now using deep learning to **manage the energy** at the company’s data centers. They’ve cut their energy needs for cooling by 40%. That translates to about a 15% improvement in power usage efficiency for the company and hundreds of millions of dollars in savings."
      ]
    },
    {
      "cell_type": "markdown",
      "metadata": {
        "id": "I4klvW-_tgYt"
      },
      "source": [
        "## ANN: Artificial Neural Networks\n",
        "\n",
        "* ANNs are inspired by biological neurons found in cerebral cortex of our brain. \n",
        "> `The cerebral cortex (plural cortices), also known as the cerebral mantle, is the outer layer of neural tissue of the cerebrum of the brain in humans and other mammals. - WikiPedia`\n",
        "\n",
        "    [image source](https://upload.wikimedia.org/wikipedia/commons/8/88/NeuronGolgi.png)\n",
        "\n",
        "    <img src=\"https://upload.wikimedia.org/wikipedia/commons/8/88/NeuronGolgi.png\" width=50%>\n",
        "    \n",
        "    [image source](https://upload.wikimedia.org/wikipedia/commons/thumb/d/d2/Blausen_0102_Brain_Motor%26Sensory.png/1024px-Blausen_0102_Brain_Motor%26Sensory.png)\n",
        "    <img src=\"https://upload.wikimedia.org/wikipedia/commons/thumb/d/d2/Blausen_0102_Brain_Motor%26Sensory.png/1024px-Blausen_0102_Brain_Motor%26Sensory.png\" width=70%>\n",
        "    \n",
        "    > read more about cerebral cortex at [this link](https://simple.wikipedia.org/wiki/Cerebral_cortex)\n",
        "    \n",
        "    >[NCERT reference](https://ncert.nic.in/ncerts/l/kebo121.pdf)\n",
        "    \n",
        "\n",
        "* ANNs are **core of deep learning**. Hence one of the most important topic to understand.\n",
        "\n",
        "* ANNs are **versatile, scalable and powerfull**. Thus it can tackle highly complex ML tasks like classifying images, identying object, speech recognition etc."
      ]
    },
    {
      "cell_type": "markdown",
      "metadata": {
        "id": "a7TEBeSmtgYx"
      },
      "source": [
        "### Biological Neuron\n",
        "\n",
        "[Image source](https://upload.wikimedia.org/wikipedia/commons/thumb/1/10/Blausen_0657_MultipolarNeuron.png/1920px-Blausen_0657_MultipolarNeuron.png)\n",
        "\n",
        "<img src=\"https://upload.wikimedia.org/wikipedia/commons/thumb/1/10/Blausen_0657_MultipolarNeuron.png/1920px-Blausen_0657_MultipolarNeuron.png\" width=70%>\n",
        "\n",
        "* Biological Neuron produce short electrical impulses known as `action potentials` which travels through axons to the synapses which releases chemical signals i.e `neurotransmitters`.\n",
        "\n",
        "* When a connected neuron recieves a sufficient amount of these neurotransmitters within a few milliseconds, it fires ( or does not fires, think of a NOT gate here) its own action potential or elctrical impulse.\n",
        "\n",
        "* These simple units form a strong network known as Biological Neural Network (BNN) to perform very complex computation task."
      ]
    },
    {
      "cell_type": "markdown",
      "metadata": {
        "id": "NLuR1_TWtgY3"
      },
      "source": [
        "### The first artificial neuron\n",
        "\n",
        "* It was in year 1943, Artificial neuron was introduced by-\n",
        "    * Neurophysiologist Warren McCulloh and\n",
        "    * Mathematician Walter Pitts\n",
        "    \n",
        "* They have published their work in `McCulloch, W.S., Pitts, W. A logical calculus of the ideas immanent in nervous activity. Bulletin of Mathematical Biophysics 5, 115–133 (1943). https://doi.org/10.1007/BF02478259`. read full paper at [this link](https://www.cs.cmu.edu/~./epxing/Class/10715/reading/McCulloch.and.Pitts.pdf)\n",
        "\n",
        "* They have shown that these simple neurons can perform small logical operation like OR, NOT, AND gate etc.\n",
        "\n",
        "* Following figure represents these ANs which can perform (a) Buffer, (b) OR, (c) AND and (d) A-B operation\n",
        "\n",
        "    [image source](https://www.cs.cmu.edu/~./epxing/Class/10715/reading/McCulloch.and.Pitts.pdf)\n",
        "\n",
        "    ![image.png](attachment:4343b514-66bf-495e-86c4-50b4753b0943.png)\n",
        "\n",
        "* These neuron only fires when they get two active inputs."
      ]
    },
    {
      "cell_type": "markdown",
      "metadata": {
        "id": "K6nsym4vtgY7"
      },
      "source": [
        "### The Perceptron\n",
        "\n",
        "* Its the simplest ANN architecture. It was invented by Frank Rosenblatt in 1957 and published as `Rosenblatt, Frank (1958), The Perceptron: A Probabilistic Model for Information Storage and Organization in the Brain, Cornell Aeronautical Laboratory, Psychological Review, v65, No. 6, pp. 386–408. doi:10.1037/h0042519`\n",
        "* It has different architecture then the first neuron that we have seen above. Its known as threshold logic unit(TLU) or linear threshold unit (LTU).\n",
        "* Here inputs are not just binary. \n",
        "* Lets see the architecture shown below - \n",
        "    \n",
        "    <a title=\"Chrislb / CC BY-SA (http://creativecommons.org/licenses/by-sa/3.0/)\" href=\"https://commons.wikimedia.org/wiki/File:ArtificialNeuronModel_english.png\"><img width=\"1024\" alt=\"ArtificialNeuronModel english\" src=\"https://upload.wikimedia.org/wikipedia/commons/thumb/6/60/ArtificialNeuronModel_english.png/1024px-ArtificialNeuronModel_english.png\"></a>"
      ]
    },
    {
      "cell_type": "markdown",
      "metadata": {
        "id": "hsxj-0wFtgY-"
      },
      "source": [
        "* Common activation functions used for Perceptrons are (with threshold at 0)- \n",
        "\n",
        "    * $$step(z)\\ or\\ heaviside(z) = \\left\\{\\begin{matrix}\n",
        "                                0 & z<0\\\\ \n",
        "                                1 & z\\geq 0\n",
        "                                \\end{matrix}\\right.$$\n",
        "                         "
      ]
    },
    {
      "cell_type": "code",
      "metadata": {
        "id": "Hwut9qjUtgZE",
        "outputId": "dbff9b31-3e34-44af-dd95-515f20fa77de"
      },
      "source": [
        "import numpy as np\n",
        "import matplotlib.pyplot as plt\n",
        "plt.style.use(\"fivethirtyeight\")\n",
        "\n",
        "x_axis = np.linspace(-2,2,200)\n",
        "step = np.where(x_axis < 0, 0, 1)\n",
        "\n",
        "plt.plot(x_axis, step)\n",
        "plt.xlabel(\"x_axis\")\n",
        "plt.ylabel(r\"$step(z)$\")\n",
        "plt.axhline(0, color='k', lw=1);\n",
        "plt.axvline(0, color='k', lw=1);"
      ],
      "execution_count": null,
      "outputs": [
        {
          "output_type": "display_data",
          "data": {
            "image/png": "[encoded data removed]",
            "text/plain": [
              "<Figure size 432x288 with 1 Axes>"
            ]
          },
          "metadata": {
            "tags": []
          }
        }
      ]
    },
    {
      "cell_type": "markdown",
      "metadata": {
        "id": "CURXQzYGtgZN"
      },
      "source": [
        "* $$sgn(z) = \\left\\{\\begin{matrix}\n",
        "                                -1 & z < 0 \\\\ \n",
        "                                0 & z = 0 \\\\\n",
        "                                1 & z > 0                                \n",
        "                                \\end{matrix}\\right.$$"
      ]
    },
    {
      "cell_type": "code",
      "metadata": {
        "id": "hCEpY_ArtgZP",
        "outputId": "e3aac593-065b-4bca-ef9a-982d072d2c9e"
      },
      "source": [
        "def sgn(x):\n",
        "    if x < 0:\n",
        "        return -1\n",
        "    elif x > 0:\n",
        "        return 1\n",
        "    return 0\n",
        "\n",
        "sgn = np.array(list(map(sgn, x_axis)))\n",
        "\n",
        "plt.plot(x_axis, sgn)\n",
        "plt.xlabel(\"x_axis\")\n",
        "plt.ylabel(r\"$sgn(z)$\")\n",
        "plt.axhline(0, color='k', lw=1);\n",
        "plt.axvline(0, color='k', lw=1);"
      ],
      "execution_count": null,
      "outputs": [
        {
          "output_type": "display_data",
          "data": {
            "image/png": "[encoded data removed]",
            "text/plain": [
              "<Figure size 432x288 with 1 Axes>"
            ]
          },
          "metadata": {
            "tags": []
          }
        }
      ]
    },
    {
      "cell_type": "markdown",
      "metadata": {
        "id": "OVPFGVsctgZR"
      },
      "source": [
        "* These activation function are **anologous to firing of neurotransmitter** at a specific threshold\n",
        "* Perceptron learning Rule: \n",
        "    $$w_{i,j} \\leftarrow w_{i,j} + \\eta(y_j - \\hat{y_j})x_i$$\n",
        "    where,\n",
        "    * $w_{i,j}$ : connection weight between $i^{th}$ input neuron and $j^{th}$ output neuron\n",
        "    * $x_i$ : $i^{th}$ input value.\n",
        "    * $\\hat{y_j}$ : output of $j^{th}$ output neuron\n",
        "    * $y_j$ : target output of $j^{th}$ output neuron\n",
        "    * $\\eta$ : learning rate\n",
        "    \n",
        "* It can also be written as for jth element of w vector \n",
        "    $$w_j = w_j + \\triangle w_j$$\n",
        "    $$where,\\ \\triangle w_j =  \\eta(y^{(i)} - \\hat{y_j}^{(i)})x_j^{(i)}$$"
      ]
    },
    {
      "cell_type": "markdown",
      "metadata": {
        "id": "1srdTz-DtgZS"
      },
      "source": [
        "* Single TLUs are **simple linear binary classifier** hence not suitable for non linear operation. This is proved in the [*implimentation notebook*](implimentaion_1.ipynb) with coding of simple logic gates.\n",
        "* Rosenblatt proved that if the data is **linearly separable** then only this algorithm will converge which is known as **Perceptron learning theoram**"
      ]
    },
    {
      "cell_type": "markdown",
      "metadata": {
        "id": "3MgEVx34tgZV"
      },
      "source": [
        "* Some serious weaknesses of Perceptrons was revealed In 1969 by Marvin Minsky and Seymour Papert. Not able to solve some simple logic operations like XOR, EXOR etc.\n",
        "\n",
        "* But above mentioned problem were solved by implimenting multiplayer perceptron"
      ]
    },
    {
      "cell_type": "markdown",
      "metadata": {
        "id": "0EjsM_vmtgZY"
      },
      "source": [
        "## Derivation:- "
      ]
    },
    {
      "cell_type": "markdown",
      "metadata": {
        "id": "8iI3XV19tgZZ"
      },
      "source": [
        "Let's assume that you are doing a binary classification with class +1 and -1\n",
        "\n",
        "Let there be decision function $\\phi (z)$ \n",
        "\n",
        "which takes linear combination of certain inputs \"$\\mathbf{x}$\" \n",
        "\n",
        "corresponding weights \"$\\mathbf{w}$\" and net input $\\mathbf{z} = w_1 x_1 + w_2 x_2 + ... + w_n x_n$\n"
      ]
    },
    {
      "cell_type": "markdown",
      "metadata": {
        "id": "QBRXQrCRtgZb"
      },
      "source": [
        "So in vector form we have \n",
        "\n",
        "$\\begin{matrix}\n",
        "\\mathbf{w} = \\begin{bmatrix}\n",
        "w_1\\\\ \n",
        "\\vdots\\\\ \n",
        "w_n\\end{bmatrix}&&\n",
        "\\mathbf{x} = \\begin{bmatrix}\n",
        "x_1\\\\ \n",
        "\\vdots\\\\ \n",
        "x_n\\end{bmatrix}\\end{matrix}$\n",
        "\n",
        "\n",
        "so  $\\mathbf{z = w^T x}$"
      ]
    },
    {
      "cell_type": "markdown",
      "metadata": {
        "id": "xNStqFVStgZd"
      },
      "source": [
        "Now, if \n",
        "\n",
        "for a sample $\\mathbf{x}$\n",
        "\n",
        "$\\phi(z) = \\begin{cases}\n",
        "+1 & \\text{ if } z \\geq \\theta \\\\ \n",
        "-1 & \\text{ if } z< \\theta \n",
        "\\end{cases}$\n",
        "\n",
        "Lets simplify the above equation - \n",
        "\n",
        "$\\phi(z) = \\begin{cases}\n",
        "+1 & \\text{ if } z - \\theta \\geq 0\\\\ \n",
        "-1 & \\text{ if } z - \\theta < 0\n",
        "\\end{cases}$\n",
        "\n",
        "Suppose w_0 = - \\theta and x_0 = 1 \n",
        "\n",
        "Then, \n",
        "\n",
        "$\\mathbf{z'} = w_0 x_0 + w_1 x_1 + w_2 x_2 + ... + w_n x_n$\n",
        "\n",
        "and \n",
        "\n",
        "$\\phi(z) = \\begin{cases}\n",
        "+1 & \\text{ if } z \\geq 0\\\\ \n",
        "-1 & \\text{ if } z < 0\n",
        "\\end{cases}$\n"
      ]
    },
    {
      "cell_type": "markdown",
      "metadata": {
        "id": "AScpPWDstgZf"
      },
      "source": [
        "here $w_0 x_0$ is usually known as bias unit"
      ]
    },
    {
      "cell_type": "markdown",
      "metadata": {
        "id": "q31M_JcPtgZg"
      },
      "source": [
        "![](https://sebastianraschka.com/images/faq/classifier-history/perceptron-figure.png)"
      ]
    },
    {
      "cell_type": "code",
      "metadata": {
        "id": "za2dmxDJtgZh"
      },
      "source": [
        ""
      ],
      "execution_count": null,
      "outputs": []
    }
  ]
}