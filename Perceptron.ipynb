{
  "nbformat": 4,
  "nbformat_minor": 0,
  "metadata": {
    "colab": {
      "name": "Perceptron.ipynb",
      "provenance": [],
      "mount_file_id": "1fNbwszY5DBnGctObVgTQqvWyE3VpDw8v",
      "authorship_tag": "ABX9TyOgBOTwHZhkLwJ1K2p1Tpga",
      "include_colab_link": true
    },
    "kernelspec": {
      "name": "python3",
      "display_name": "Python 3"
    },
    "language_info": {
      "name": "python"
    }
  },
  "cells": [
    {
      "cell_type": "markdown",
      "metadata": {
        "id": "view-in-github",
        "colab_type": "text"
      },
      "source": [
        "<a href=\"https://colab.research.google.com/github/veeruamma/DLCVNLP/blob/main/Perceptron.ipynb\" target=\"_parent\"><img src=\"https://colab.research.google.com/assets/colab-badge.svg\" alt=\"Open In Colab\"/></a>"
      ]
    },
    {
      "cell_type": "code",
      "metadata": {
        "id": "8wWcLTA1lo9r"
      },
      "source": [
        "ROOT ='/content/drive/MyDrive/DLCVNLP'"
      ],
      "execution_count": 75,
      "outputs": []
    },
    {
      "cell_type": "code",
      "metadata": {
        "id": "AWHao3cxqJSu"
      },
      "source": [
        "import os\n",
        "os.chdir(ROOT)"
      ],
      "execution_count": 76,
      "outputs": []
    },
    {
      "cell_type": "code",
      "metadata": {
        "id": "PJTx8dkhqQXg"
      },
      "source": [
        "import numpy as np\n",
        "import matplotlib.pyplot as plt\n",
        "import joblib \n",
        "import pandas as pd\n",
        "\n",
        "plt.style.use('fivethirtyeight')"
      ],
      "execution_count": 77,
      "outputs": []
    },
    {
      "cell_type": "markdown",
      "metadata": {
        "id": "rmR8BuFLtfvl"
      },
      "source": [
        "# Logic gates (OR, AND) implementation using Perceptron"
      ]
    },
    {
      "cell_type": "code",
      "metadata": {
        "id": "81zJDy22qxho"
      },
      "source": [
        "class Perceptron:\n",
        "  def __init__(self, eta, epochs, activationFucntion):\n",
        "    self.weights = np.random.randn(3) * 1e-4\n",
        "    print(f\"weights: {self.weights}\")\n",
        "    self.eta = eta\n",
        "    self.epochs = epochs\n",
        "    self.activationFucntion = activationFucntion\n",
        "  \n",
        "  def fit(self, X, y):\n",
        "    self.X = X\n",
        "    self.y = y\n",
        "\n",
        "    X_with_bias = np.c_[self.X, -np.ones((len(self.X), 1))] #concatenating the bias terms with input\n",
        "    print(f\"X_with_bias: \\n {X_with_bias}\")\n",
        "    for epoch in range(self.epochs):\n",
        "      print(f\"for epoch : {epoch}\")\n",
        "      y_hat = self.activationFucntion(X_with_bias, self.weights)\n",
        "      print(f\"predicted value : {y_hat}\")\n",
        "      error = self.y - y_hat\n",
        "      print(f\"error : \\n {error}\")\n",
        "      self.weights = self.weights + self.eta * np.dot(X_with_bias.T, error)\n",
        "      print(f\"updated weights : {self.weights}\")\n",
        "      print(\"################ \\n\")\n",
        "  \n",
        "  def predict(self, X):\n",
        "    X_with_bias = np.c_[X, -np.ones((len(self.X), 1))]\n",
        "    return self.activationFucntion(X_with_bias, self.weights)\n",
        "\n",
        "\n"
      ],
      "execution_count": 78,
      "outputs": []
    },
    {
      "cell_type": "code",
      "metadata": {
        "id": "C4qwksqkqTeq"
      },
      "source": [
        "activationFunction = lambda inputs, weights : np.where(np.dot(inputs, weights) > 0, 1, 0)"
      ],
      "execution_count": 79,
      "outputs": []
    },
    {
      "cell_type": "markdown",
      "metadata": {
        "id": "gaNDXcpCxBld"
      },
      "source": [
        "```python\n",
        "def activationFunction(inputs, weights):\n",
        "  z = np.dot(inputs, weights)\n",
        "  y_hat = np.where(z>0, 1, 0)\n",
        "  return y_hat\n",
        "\n",
        "\n",
        "  def activationFunction(inputs, weights):\n",
        "    z = np.dot(inputs, weights)\n",
        "    if(z>0):\n",
        "      y_hat =1\n",
        "    else:\n",
        "      y_hat =0\n",
        "    return y_hat\n",
        "  ```"
      ]
    },
    {
      "cell_type": "markdown",
      "metadata": {
        "id": "gIYrKNaTzZmj"
      },
      "source": [
        "# AND\n"
      ]
    },
    {
      "cell_type": "code",
      "metadata": {
        "colab": {
          "base_uri": "https://localhost:8080/",
          "height": 173
        },
        "id": "cJO0Fb-Zzalc",
        "outputId": "e9d48f41-b9a0-4eef-ec8d-a35e2cd7ef8e"
      },
      "source": [
        "data = {\"x1\":[0,0,1,1], \"x2\":[0,1,0,1], \"y\":[0,0,0,1]}\n",
        "\n",
        "AND = pd.DataFrame(data)\n",
        "AND"
      ],
      "execution_count": 80,
      "outputs": [
        {
          "output_type": "execute_result",
          "data": {
            "text/html": [
              "<div>\n",
              "<style scoped>\n",
              "    .dataframe tbody tr th:only-of-type {\n",
              "        vertical-align: middle;\n",
              "    }\n",
              "\n",
              "    .dataframe tbody tr th {\n",
              "        vertical-align: top;\n",
              "    }\n",
              "\n",
              "    .dataframe thead th {\n",
              "        text-align: right;\n",
              "    }\n",
              "</style>\n",
              "<table border=\"1\" class=\"dataframe\">\n",
              "  <thead>\n",
              "    <tr style=\"text-align: right;\">\n",
              "      <th></th>\n",
              "      <th>x1</th>\n",
              "      <th>x2</th>\n",
              "      <th>y</th>\n",
              "    </tr>\n",
              "  </thead>\n",
              "  <tbody>\n",
              "    <tr>\n",
              "      <th>0</th>\n",
              "      <td>0</td>\n",
              "      <td>0</td>\n",
              "      <td>0</td>\n",
              "    </tr>\n",
              "    <tr>\n",
              "      <th>1</th>\n",
              "      <td>0</td>\n",
              "      <td>1</td>\n",
              "      <td>0</td>\n",
              "    </tr>\n",
              "    <tr>\n",
              "      <th>2</th>\n",
              "      <td>1</td>\n",
              "      <td>0</td>\n",
              "      <td>0</td>\n",
              "    </tr>\n",
              "    <tr>\n",
              "      <th>3</th>\n",
              "      <td>1</td>\n",
              "      <td>1</td>\n",
              "      <td>1</td>\n",
              "    </tr>\n",
              "  </tbody>\n",
              "</table>\n",
              "</div>"
            ],
            "text/plain": [
              "   x1  x2  y\n",
              "0   0   0  0\n",
              "1   0   1  0\n",
              "2   1   0  0\n",
              "3   1   1  1"
            ]
          },
          "metadata": {
            "tags": []
          },
          "execution_count": 80
        }
      ]
    },
    {
      "cell_type": "code",
      "metadata": {
        "colab": {
          "base_uri": "https://localhost:8080/",
          "height": 173
        },
        "id": "mc6iGbbVz9r_",
        "outputId": "17362f99-c937-43ce-8b80-e48cc336cfb1"
      },
      "source": [
        "X = AND.drop(\"y\", axis=1)\n",
        "X"
      ],
      "execution_count": 81,
      "outputs": [
        {
          "output_type": "execute_result",
          "data": {
            "text/html": [
              "<div>\n",
              "<style scoped>\n",
              "    .dataframe tbody tr th:only-of-type {\n",
              "        vertical-align: middle;\n",
              "    }\n",
              "\n",
              "    .dataframe tbody tr th {\n",
              "        vertical-align: top;\n",
              "    }\n",
              "\n",
              "    .dataframe thead th {\n",
              "        text-align: right;\n",
              "    }\n",
              "</style>\n",
              "<table border=\"1\" class=\"dataframe\">\n",
              "  <thead>\n",
              "    <tr style=\"text-align: right;\">\n",
              "      <th></th>\n",
              "      <th>x1</th>\n",
              "      <th>x2</th>\n",
              "    </tr>\n",
              "  </thead>\n",
              "  <tbody>\n",
              "    <tr>\n",
              "      <th>0</th>\n",
              "      <td>0</td>\n",
              "      <td>0</td>\n",
              "    </tr>\n",
              "    <tr>\n",
              "      <th>1</th>\n",
              "      <td>0</td>\n",
              "      <td>1</td>\n",
              "    </tr>\n",
              "    <tr>\n",
              "      <th>2</th>\n",
              "      <td>1</td>\n",
              "      <td>0</td>\n",
              "    </tr>\n",
              "    <tr>\n",
              "      <th>3</th>\n",
              "      <td>1</td>\n",
              "      <td>1</td>\n",
              "    </tr>\n",
              "  </tbody>\n",
              "</table>\n",
              "</div>"
            ],
            "text/plain": [
              "   x1  x2\n",
              "0   0   0\n",
              "1   0   1\n",
              "2   1   0\n",
              "3   1   1"
            ]
          },
          "metadata": {
            "tags": []
          },
          "execution_count": 81
        }
      ]
    },
    {
      "cell_type": "code",
      "metadata": {
        "colab": {
          "base_uri": "https://localhost:8080/",
          "height": 173
        },
        "id": "sea-5Cnj0Nvl",
        "outputId": "b75b8a94-05a9-40fc-ae10-1f3bfb4beb9b"
      },
      "source": [
        "y = AND[\"y\"]\n",
        "y.to_frame()"
      ],
      "execution_count": 82,
      "outputs": [
        {
          "output_type": "execute_result",
          "data": {
            "text/html": [
              "<div>\n",
              "<style scoped>\n",
              "    .dataframe tbody tr th:only-of-type {\n",
              "        vertical-align: middle;\n",
              "    }\n",
              "\n",
              "    .dataframe tbody tr th {\n",
              "        vertical-align: top;\n",
              "    }\n",
              "\n",
              "    .dataframe thead th {\n",
              "        text-align: right;\n",
              "    }\n",
              "</style>\n",
              "<table border=\"1\" class=\"dataframe\">\n",
              "  <thead>\n",
              "    <tr style=\"text-align: right;\">\n",
              "      <th></th>\n",
              "      <th>y</th>\n",
              "    </tr>\n",
              "  </thead>\n",
              "  <tbody>\n",
              "    <tr>\n",
              "      <th>0</th>\n",
              "      <td>0</td>\n",
              "    </tr>\n",
              "    <tr>\n",
              "      <th>1</th>\n",
              "      <td>0</td>\n",
              "    </tr>\n",
              "    <tr>\n",
              "      <th>2</th>\n",
              "      <td>0</td>\n",
              "    </tr>\n",
              "    <tr>\n",
              "      <th>3</th>\n",
              "      <td>1</td>\n",
              "    </tr>\n",
              "  </tbody>\n",
              "</table>\n",
              "</div>"
            ],
            "text/plain": [
              "   y\n",
              "0  0\n",
              "1  0\n",
              "2  0\n",
              "3  1"
            ]
          },
          "metadata": {
            "tags": []
          },
          "execution_count": 82
        }
      ]
    },
    {
      "cell_type": "code",
      "metadata": {
        "colab": {
          "base_uri": "https://localhost:8080/"
        },
        "id": "XXiGYju30a2K",
        "outputId": "05d8623c-1e63-48a6-a406-1fd7870d0235"
      },
      "source": [
        "model = Perceptron(eta=0.01, epochs=10, activationFucntion= activationFunction)"
      ],
      "execution_count": 83,
      "outputs": [
        {
          "output_type": "stream",
          "text": [
            "weights: [ 3.23323166e-05 -5.36747933e-05  1.16740523e-05]\n"
          ],
          "name": "stdout"
        }
      ]
    },
    {
      "cell_type": "code",
      "metadata": {
        "colab": {
          "base_uri": "https://localhost:8080/"
        },
        "id": "gC6WWcf72AuV",
        "outputId": "19c1bed6-957d-4c30-86e8-a6459dca4297"
      },
      "source": [
        "model.fit(X, y)"
      ],
      "execution_count": 84,
      "outputs": [
        {
          "output_type": "stream",
          "text": [
            "X_with_bias: \n",
            " [[ 0.  0. -1.]\n",
            " [ 0.  1. -1.]\n",
            " [ 1.  0. -1.]\n",
            " [ 1.  1. -1.]]\n",
            "for epoch : 0\n",
            "predicted value : [0 0 1 0]\n",
            "error : \n",
            " 0    0\n",
            "1    0\n",
            "2   -1\n",
            "3    1\n",
            "Name: y, dtype: int64\n",
            "updated weights : [3.23323166e-05 9.94632521e-03 1.16740523e-05]\n",
            "################ \n",
            "\n",
            "for epoch : 1\n",
            "predicted value : [0 1 1 1]\n",
            "error : \n",
            " 0    0\n",
            "1   -1\n",
            "2   -1\n",
            "3    0\n",
            "Name: y, dtype: int64\n",
            "updated weights : [-9.96766768e-03 -5.36747933e-05  2.00116741e-02]\n",
            "################ \n",
            "\n",
            "for epoch : 2\n",
            "predicted value : [0 0 0 0]\n",
            "error : \n",
            " 0    0\n",
            "1    0\n",
            "2    0\n",
            "3    1\n",
            "Name: y, dtype: int64\n",
            "updated weights : [3.23323166e-05 9.94632521e-03 1.00116741e-02]\n",
            "################ \n",
            "\n",
            "for epoch : 3\n",
            "predicted value : [0 0 0 0]\n",
            "error : \n",
            " 0    0\n",
            "1    0\n",
            "2    0\n",
            "3    1\n",
            "Name: y, dtype: int64\n",
            "updated weights : [1.00323323e-02 1.99463252e-02 1.16740523e-05]\n",
            "################ \n",
            "\n",
            "for epoch : 4\n",
            "predicted value : [0 1 1 1]\n",
            "error : \n",
            " 0    0\n",
            "1   -1\n",
            "2   -1\n",
            "3    0\n",
            "Name: y, dtype: int64\n",
            "updated weights : [3.23323166e-05 9.94632521e-03 2.00116741e-02]\n",
            "################ \n",
            "\n",
            "for epoch : 5\n",
            "predicted value : [0 0 0 0]\n",
            "error : \n",
            " 0    0\n",
            "1    0\n",
            "2    0\n",
            "3    1\n",
            "Name: y, dtype: int64\n",
            "updated weights : [0.01003233 0.01994633 0.01001167]\n",
            "################ \n",
            "\n",
            "for epoch : 6\n",
            "predicted value : [0 1 1 1]\n",
            "error : \n",
            " 0    0\n",
            "1   -1\n",
            "2   -1\n",
            "3    0\n",
            "Name: y, dtype: int64\n",
            "updated weights : [3.23323166e-05 9.94632521e-03 3.00116741e-02]\n",
            "################ \n",
            "\n",
            "for epoch : 7\n",
            "predicted value : [0 0 0 0]\n",
            "error : \n",
            " 0    0\n",
            "1    0\n",
            "2    0\n",
            "3    1\n",
            "Name: y, dtype: int64\n",
            "updated weights : [0.01003233 0.01994633 0.02001167]\n",
            "################ \n",
            "\n",
            "for epoch : 8\n",
            "predicted value : [0 0 0 1]\n",
            "error : \n",
            " 0    0\n",
            "1    0\n",
            "2    0\n",
            "3    0\n",
            "Name: y, dtype: int64\n",
            "updated weights : [0.01003233 0.01994633 0.02001167]\n",
            "################ \n",
            "\n",
            "for epoch : 9\n",
            "predicted value : [0 0 0 1]\n",
            "error : \n",
            " 0    0\n",
            "1    0\n",
            "2    0\n",
            "3    0\n",
            "Name: y, dtype: int64\n",
            "updated weights : [0.01003233 0.01994633 0.02001167]\n",
            "################ \n",
            "\n"
          ],
          "name": "stdout"
        }
      ]
    },
    {
      "cell_type": "code",
      "metadata": {
        "colab": {
          "base_uri": "https://localhost:8080/"
        },
        "id": "v_Pe6-EK2FBL",
        "outputId": "cb992eeb-833a-4d61-d011-6660c8239ba9"
      },
      "source": [
        "model.predict(X)"
      ],
      "execution_count": 85,
      "outputs": [
        {
          "output_type": "execute_result",
          "data": {
            "text/plain": [
              "array([0, 0, 0, 1])"
            ]
          },
          "metadata": {
            "tags": []
          },
          "execution_count": 85
        }
      ]
    },
    {
      "cell_type": "code",
      "metadata": {
        "id": "5GMREvaS2WlE"
      },
      "source": [
        " "
      ],
      "execution_count": 85,
      "outputs": []
    }
  ]
}