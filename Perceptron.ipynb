{
  "nbformat": 4,
  "nbformat_minor": 0,
  "metadata": {
    "colab": {
      "name": "Perceptron.ipynb",
      "provenance": [],
      "mount_file_id": "1fNbwszY5DBnGctObVgTQqvWyE3VpDw8v",
      "authorship_tag": "ABX9TyNsAiIbYBXUiY6GcV/4W2aK",
      "include_colab_link": true
    },
    "kernelspec": {
      "name": "python3",
      "display_name": "Python 3"
    },
    "language_info": {
      "name": "python"
    }
  },
  "cells": [
    {
      "cell_type": "markdown",
      "metadata": {
        "id": "view-in-github",
        "colab_type": "text"
      },
      "source": [
        "<a href=\"https://colab.research.google.com/github/veeruamma/DLCVNLP/blob/main/Perceptron.ipynb\" target=\"_parent\"><img src=\"https://colab.research.google.com/assets/colab-badge.svg\" alt=\"Open In Colab\"/></a>"
      ]
    },
    {
      "cell_type": "code",
      "metadata": {
        "id": "8wWcLTA1lo9r"
      },
      "source": [
        "ROOT ='/content/drive/MyDrive/DLCVNLP'"
      ],
      "execution_count": 75,
      "outputs": []
    },
    {
      "cell_type": "code",
      "metadata": {
        "id": "AWHao3cxqJSu"
      },
      "source": [
        "import os\n",
        "os.chdir(ROOT)"
      ],
      "execution_count": 76,
      "outputs": []
    },
    {
      "cell_type": "code",
      "metadata": {
        "id": "PJTx8dkhqQXg"
      },
      "source": [
        "import numpy as np\n",
        "import matplotlib.pyplot as plt\n",
        "import joblib \n",
        "import pandas as pd\n",
        "\n",
        "plt.style.use('fivethirtyeight')"
      ],
      "execution_count": 77,
      "outputs": []
    },
    {
      "cell_type": "markdown",
      "metadata": {
        "id": "rmR8BuFLtfvl"
      },
      "source": [
        "# Logic gates (OR, AND) implementation using Perceptron"
      ]
    },
    {
      "cell_type": "code",
      "metadata": {
        "id": "81zJDy22qxho"
      },
      "source": [
        "class Perceptron:\n",
        "  def __init__(self, eta, epochs, activationFucntion):\n",
        "    self.weights = np.random.randn(3) * 1e-4\n",
        "    print(f\"weights: {self.weights}\")\n",
        "    self.eta = eta\n",
        "    self.epochs = epochs\n",
        "    self.activationFucntion = activationFucntion\n",
        "  \n",
        "  def fit(self, X, y):\n",
        "    self.X = X\n",
        "    self.y = y\n",
        "\n",
        "    X_with_bias = np.c_[self.X, -np.ones((len(self.X), 1))] #concatenating the bias terms with input\n",
        "    print(f\"X_with_bias: \\n {X_with_bias}\")\n",
        "    for epoch in range(self.epochs):\n",
        "      print(f\"for epoch : {epoch}\")\n",
        "      y_hat = self.activationFucntion(X_with_bias, self.weights)\n",
        "      print(f\"predicted value : {y_hat}\")\n",
        "      error = self.y - y_hat\n",
        "      print(f\"error : \\n {error}\")\n",
        "      self.weights = self.weights + self.eta * np.dot(X_with_bias.T, error)\n",
        "      print(f\"updated weights : {self.weights}\")\n",
        "      print(\"################ \\n\")\n",
        "  \n",
        "  def predict(self, X):\n",
        "    X_with_bias = np.c_[X, -np.ones((len(self.X), 1))]\n",
        "    return self.activationFucntion(X_with_bias, self.weights)\n",
        "\n",
        "\n"
      ],
      "execution_count": 78,
      "outputs": []
    },
    {
      "cell_type": "code",
      "metadata": {
        "id": "C4qwksqkqTeq"
      },
      "source": [
        "activationFunction = lambda inputs, weights : np.where(np.dot(inputs, weights) > 0, 1, 0)"
      ],
      "execution_count": 79,
      "outputs": []
    },
    {
      "cell_type": "markdown",
      "metadata": {
        "id": "gaNDXcpCxBld"
      },
      "source": [
        "```python\n",
        "def activationFunction(inputs, weights):\n",
        "  z = np.dot(inputs, weights)\n",
        "  y_hat = np.where(z>0, 1, 0)\n",
        "  return y_hat\n",
        "\n",
        "\n",
        "  def activationFunction(inputs, weights):\n",
        "    z = np.dot(inputs, weights)\n",
        "    if(z>0):\n",
        "      y_hat =1\n",
        "    else:\n",
        "      y_hat =0\n",
        "    return y_hat\n",
        "  ```"
      ]
    },
    {
      "cell_type": "markdown",
      "metadata": {
        "id": "gIYrKNaTzZmj"
      },
      "source": [
        "# AND Gate Implementation\n"
      ]
    },
    {
      "cell_type": "code",
      "metadata": {
        "colab": {
          "base_uri": "https://localhost:8080/",
          "height": 173
        },
        "id": "cJO0Fb-Zzalc",
        "outputId": "e9d48f41-b9a0-4eef-ec8d-a35e2cd7ef8e"
      },
      "source": [
        "data = {\"x1\":[0,0,1,1], \"x2\":[0,1,0,1], \"y\":[0,0,0,1]}\n",
        "\n",
        "AND = pd.DataFrame(data)\n",
        "AND"
      ],
      "execution_count": 80,
      "outputs": [
        {
          "output_type": "execute_result",
          "data": {
            "text/html": [
              "<div>\n",
              "<style scoped>\n",
              "    .dataframe tbody tr th:only-of-type {\n",
              "        vertical-align: middle;\n",
              "    }\n",
              "\n",
              "    .dataframe tbody tr th {\n",
              "        vertical-align: top;\n",
              "    }\n",
              "\n",
              "    .dataframe thead th {\n",
              "        text-align: right;\n",
              "    }\n",
              "</style>\n",
              "<table border=\"1\" class=\"dataframe\">\n",
              "  <thead>\n",
              "    <tr style=\"text-align: right;\">\n",
              "      <th></th>\n",
              "      <th>x1</th>\n",
              "      <th>x2</th>\n",
              "      <th>y</th>\n",
              "    </tr>\n",
              "  </thead>\n",
              "  <tbody>\n",
              "    <tr>\n",
              "      <th>0</th>\n",
              "      <td>0</td>\n",
              "      <td>0</td>\n",
              "      <td>0</td>\n",
              "    </tr>\n",
              "    <tr>\n",
              "      <th>1</th>\n",
              "      <td>0</td>\n",
              "      <td>1</td>\n",
              "      <td>0</td>\n",
              "    </tr>\n",
              "    <tr>\n",
              "      <th>2</th>\n",
              "      <td>1</td>\n",
              "      <td>0</td>\n",
              "      <td>0</td>\n",
              "    </tr>\n",
              "    <tr>\n",
              "      <th>3</th>\n",
              "      <td>1</td>\n",
              "      <td>1</td>\n",
              "      <td>1</td>\n",
              "    </tr>\n",
              "  </tbody>\n",
              "</table>\n",
              "</div>"
            ],
            "text/plain": [
              "   x1  x2  y\n",
              "0   0   0  0\n",
              "1   0   1  0\n",
              "2   1   0  0\n",
              "3   1   1  1"
            ]
          },
          "metadata": {
            "tags": []
          },
          "execution_count": 80
        }
      ]
    },
    {
      "cell_type": "code",
      "metadata": {
        "colab": {
          "base_uri": "https://localhost:8080/",
          "height": 173
        },
        "id": "mc6iGbbVz9r_",
        "outputId": "17362f99-c937-43ce-8b80-e48cc336cfb1"
      },
      "source": [
        "X = AND.drop(\"y\", axis=1)\n",
        "X"
      ],
      "execution_count": 81,
      "outputs": [
        {
          "output_type": "execute_result",
          "data": {
            "text/html": [
              "<div>\n",
              "<style scoped>\n",
              "    .dataframe tbody tr th:only-of-type {\n",
              "        vertical-align: middle;\n",
              "    }\n",
              "\n",
              "    .dataframe tbody tr th {\n",
              "        vertical-align: top;\n",
              "    }\n",
              "\n",
              "    .dataframe thead th {\n",
              "        text-align: right;\n",
              "    }\n",
              "</style>\n",
              "<table border=\"1\" class=\"dataframe\">\n",
              "  <thead>\n",
              "    <tr style=\"text-align: right;\">\n",
              "      <th></th>\n",
              "      <th>x1</th>\n",
              "      <th>x2</th>\n",
              "    </tr>\n",
              "  </thead>\n",
              "  <tbody>\n",
              "    <tr>\n",
              "      <th>0</th>\n",
              "      <td>0</td>\n",
              "      <td>0</td>\n",
              "    </tr>\n",
              "    <tr>\n",
              "      <th>1</th>\n",
              "      <td>0</td>\n",
              "      <td>1</td>\n",
              "    </tr>\n",
              "    <tr>\n",
              "      <th>2</th>\n",
              "      <td>1</td>\n",
              "      <td>0</td>\n",
              "    </tr>\n",
              "    <tr>\n",
              "      <th>3</th>\n",
              "      <td>1</td>\n",
              "      <td>1</td>\n",
              "    </tr>\n",
              "  </tbody>\n",
              "</table>\n",
              "</div>"
            ],
            "text/plain": [
              "   x1  x2\n",
              "0   0   0\n",
              "1   0   1\n",
              "2   1   0\n",
              "3   1   1"
            ]
          },
          "metadata": {
            "tags": []
          },
          "execution_count": 81
        }
      ]
    },
    {
      "cell_type": "code",
      "metadata": {
        "colab": {
          "base_uri": "https://localhost:8080/",
          "height": 173
        },
        "id": "sea-5Cnj0Nvl",
        "outputId": "b75b8a94-05a9-40fc-ae10-1f3bfb4beb9b"
      },
      "source": [
        "y = AND[\"y\"]\n",
        "y.to_frame()"
      ],
      "execution_count": 82,
      "outputs": [
        {
          "output_type": "execute_result",
          "data": {
            "text/html": [
              "<div>\n",
              "<style scoped>\n",
              "    .dataframe tbody tr th:only-of-type {\n",
              "        vertical-align: middle;\n",
              "    }\n",
              "\n",
              "    .dataframe tbody tr th {\n",
              "        vertical-align: top;\n",
              "    }\n",
              "\n",
              "    .dataframe thead th {\n",
              "        text-align: right;\n",
              "    }\n",
              "</style>\n",
              "<table border=\"1\" class=\"dataframe\">\n",
              "  <thead>\n",
              "    <tr style=\"text-align: right;\">\n",
              "      <th></th>\n",
              "      <th>y</th>\n",
              "    </tr>\n",
              "  </thead>\n",
              "  <tbody>\n",
              "    <tr>\n",
              "      <th>0</th>\n",
              "      <td>0</td>\n",
              "    </tr>\n",
              "    <tr>\n",
              "      <th>1</th>\n",
              "      <td>0</td>\n",
              "    </tr>\n",
              "    <tr>\n",
              "      <th>2</th>\n",
              "      <td>0</td>\n",
              "    </tr>\n",
              "    <tr>\n",
              "      <th>3</th>\n",
              "      <td>1</td>\n",
              "    </tr>\n",
              "  </tbody>\n",
              "</table>\n",
              "</div>"
            ],
            "text/plain": [
              "   y\n",
              "0  0\n",
              "1  0\n",
              "2  0\n",
              "3  1"
            ]
          },
          "metadata": {
            "tags": []
          },
          "execution_count": 82
        }
      ]
    },
    {
      "cell_type": "code",
      "metadata": {
        "colab": {
          "base_uri": "https://localhost:8080/"
        },
        "id": "XXiGYju30a2K",
        "outputId": "05d8623c-1e63-48a6-a406-1fd7870d0235"
      },
      "source": [
        "model = Perceptron(eta=0.01, epochs=10, activationFucntion= activationFunction)"
      ],
      "execution_count": 83,
      "outputs": [
        {
          "output_type": "stream",
          "text": [
            "weights: [ 3.23323166e-05 -5.36747933e-05  1.16740523e-05]\n"
          ],
          "name": "stdout"
        }
      ]
    },
    {
      "cell_type": "code",
      "metadata": {
        "colab": {
          "base_uri": "https://localhost:8080/"
        },
        "id": "gC6WWcf72AuV",
        "outputId": "19c1bed6-957d-4c30-86e8-a6459dca4297"
      },
      "source": [
        "model.fit(X, y)"
      ],
      "execution_count": 84,
      "outputs": [
        {
          "output_type": "stream",
          "text": [
            "X_with_bias: \n",
            " [[ 0.  0. -1.]\n",
            " [ 0.  1. -1.]\n",
            " [ 1.  0. -1.]\n",
            " [ 1.  1. -1.]]\n",
            "for epoch : 0\n",
            "predicted value : [0 0 1 0]\n",
            "error : \n",
            " 0    0\n",
            "1    0\n",
            "2   -1\n",
            "3    1\n",
            "Name: y, dtype: int64\n",
            "updated weights : [3.23323166e-05 9.94632521e-03 1.16740523e-05]\n",
            "################ \n",
            "\n",
            "for epoch : 1\n",
            "predicted value : [0 1 1 1]\n",
            "error : \n",
            " 0    0\n",
            "1   -1\n",
            "2   -1\n",
            "3    0\n",
            "Name: y, dtype: int64\n",
            "updated weights : [-9.96766768e-03 -5.36747933e-05  2.00116741e-02]\n",
            "################ \n",
            "\n",
            "for epoch : 2\n",
            "predicted value : [0 0 0 0]\n",
            "error : \n",
            " 0    0\n",
            "1    0\n",
            "2    0\n",
            "3    1\n",
            "Name: y, dtype: int64\n",
            "updated weights : [3.23323166e-05 9.94632521e-03 1.00116741e-02]\n",
            "################ \n",
            "\n",
            "for epoch : 3\n",
            "predicted value : [0 0 0 0]\n",
            "error : \n",
            " 0    0\n",
            "1    0\n",
            "2    0\n",
            "3    1\n",
            "Name: y, dtype: int64\n",
            "updated weights : [1.00323323e-02 1.99463252e-02 1.16740523e-05]\n",
            "################ \n",
            "\n",
            "for epoch : 4\n",
            "predicted value : [0 1 1 1]\n",
            "error : \n",
            " 0    0\n",
            "1   -1\n",
            "2   -1\n",
            "3    0\n",
            "Name: y, dtype: int64\n",
            "updated weights : [3.23323166e-05 9.94632521e-03 2.00116741e-02]\n",
            "################ \n",
            "\n",
            "for epoch : 5\n",
            "predicted value : [0 0 0 0]\n",
            "error : \n",
            " 0    0\n",
            "1    0\n",
            "2    0\n",
            "3    1\n",
            "Name: y, dtype: int64\n",
            "updated weights : [0.01003233 0.01994633 0.01001167]\n",
            "################ \n",
            "\n",
            "for epoch : 6\n",
            "predicted value : [0 1 1 1]\n",
            "error : \n",
            " 0    0\n",
            "1   -1\n",
            "2   -1\n",
            "3    0\n",
            "Name: y, dtype: int64\n",
            "updated weights : [3.23323166e-05 9.94632521e-03 3.00116741e-02]\n",
            "################ \n",
            "\n",
            "for epoch : 7\n",
            "predicted value : [0 0 0 0]\n",
            "error : \n",
            " 0    0\n",
            "1    0\n",
            "2    0\n",
            "3    1\n",
            "Name: y, dtype: int64\n",
            "updated weights : [0.01003233 0.01994633 0.02001167]\n",
            "################ \n",
            "\n",
            "for epoch : 8\n",
            "predicted value : [0 0 0 1]\n",
            "error : \n",
            " 0    0\n",
            "1    0\n",
            "2    0\n",
            "3    0\n",
            "Name: y, dtype: int64\n",
            "updated weights : [0.01003233 0.01994633 0.02001167]\n",
            "################ \n",
            "\n",
            "for epoch : 9\n",
            "predicted value : [0 0 0 1]\n",
            "error : \n",
            " 0    0\n",
            "1    0\n",
            "2    0\n",
            "3    0\n",
            "Name: y, dtype: int64\n",
            "updated weights : [0.01003233 0.01994633 0.02001167]\n",
            "################ \n",
            "\n"
          ],
          "name": "stdout"
        }
      ]
    },
    {
      "cell_type": "code",
      "metadata": {
        "colab": {
          "base_uri": "https://localhost:8080/"
        },
        "id": "v_Pe6-EK2FBL",
        "outputId": "cb992eeb-833a-4d61-d011-6660c8239ba9"
      },
      "source": [
        "model.predict(X)"
      ],
      "execution_count": 85,
      "outputs": [
        {
          "output_type": "execute_result",
          "data": {
            "text/plain": [
              "array([0, 0, 0, 1])"
            ]
          },
          "metadata": {
            "tags": []
          },
          "execution_count": 85
        }
      ]
    },
    {
      "cell_type": "markdown",
      "metadata": {
        "id": "0k_Af4jNAOs4"
      },
      "source": [
        "# OR Gate Implementation"
      ]
    },
    {
      "cell_type": "code",
      "metadata": {
        "colab": {
          "base_uri": "https://localhost:8080/",
          "height": 173
        },
        "id": "5GMREvaS2WlE",
        "outputId": "b6c54c6a-ba0b-4184-86f3-dcf28e4008da"
      },
      "source": [
        "data = {\"x1\":[0,0,1,1], \"x2\":[0,1,0,1], \"y\":[0,1,1,1]}\n",
        "\n",
        "OR = pd.DataFrame(data)\n",
        "OR"
      ],
      "execution_count": 86,
      "outputs": [
        {
          "output_type": "execute_result",
          "data": {
            "text/html": [
              "<div>\n",
              "<style scoped>\n",
              "    .dataframe tbody tr th:only-of-type {\n",
              "        vertical-align: middle;\n",
              "    }\n",
              "\n",
              "    .dataframe tbody tr th {\n",
              "        vertical-align: top;\n",
              "    }\n",
              "\n",
              "    .dataframe thead th {\n",
              "        text-align: right;\n",
              "    }\n",
              "</style>\n",
              "<table border=\"1\" class=\"dataframe\">\n",
              "  <thead>\n",
              "    <tr style=\"text-align: right;\">\n",
              "      <th></th>\n",
              "      <th>x1</th>\n",
              "      <th>x2</th>\n",
              "      <th>y</th>\n",
              "    </tr>\n",
              "  </thead>\n",
              "  <tbody>\n",
              "    <tr>\n",
              "      <th>0</th>\n",
              "      <td>0</td>\n",
              "      <td>0</td>\n",
              "      <td>0</td>\n",
              "    </tr>\n",
              "    <tr>\n",
              "      <th>1</th>\n",
              "      <td>0</td>\n",
              "      <td>1</td>\n",
              "      <td>1</td>\n",
              "    </tr>\n",
              "    <tr>\n",
              "      <th>2</th>\n",
              "      <td>1</td>\n",
              "      <td>0</td>\n",
              "      <td>1</td>\n",
              "    </tr>\n",
              "    <tr>\n",
              "      <th>3</th>\n",
              "      <td>1</td>\n",
              "      <td>1</td>\n",
              "      <td>1</td>\n",
              "    </tr>\n",
              "  </tbody>\n",
              "</table>\n",
              "</div>"
            ],
            "text/plain": [
              "   x1  x2  y\n",
              "0   0   0  0\n",
              "1   0   1  1\n",
              "2   1   0  1\n",
              "3   1   1  1"
            ]
          },
          "metadata": {
            "tags": []
          },
          "execution_count": 86
        }
      ]
    },
    {
      "cell_type": "code",
      "metadata": {
        "colab": {
          "base_uri": "https://localhost:8080/",
          "height": 173
        },
        "id": "ZRD858j2BLax",
        "outputId": "c95e0d42-d59f-4a02-e3d8-3b93f3d106b3"
      },
      "source": [
        "y = OR[\"y\"]\n",
        "y.to_frame()"
      ],
      "execution_count": 87,
      "outputs": [
        {
          "output_type": "execute_result",
          "data": {
            "text/html": [
              "<div>\n",
              "<style scoped>\n",
              "    .dataframe tbody tr th:only-of-type {\n",
              "        vertical-align: middle;\n",
              "    }\n",
              "\n",
              "    .dataframe tbody tr th {\n",
              "        vertical-align: top;\n",
              "    }\n",
              "\n",
              "    .dataframe thead th {\n",
              "        text-align: right;\n",
              "    }\n",
              "</style>\n",
              "<table border=\"1\" class=\"dataframe\">\n",
              "  <thead>\n",
              "    <tr style=\"text-align: right;\">\n",
              "      <th></th>\n",
              "      <th>y</th>\n",
              "    </tr>\n",
              "  </thead>\n",
              "  <tbody>\n",
              "    <tr>\n",
              "      <th>0</th>\n",
              "      <td>0</td>\n",
              "    </tr>\n",
              "    <tr>\n",
              "      <th>1</th>\n",
              "      <td>1</td>\n",
              "    </tr>\n",
              "    <tr>\n",
              "      <th>2</th>\n",
              "      <td>1</td>\n",
              "    </tr>\n",
              "    <tr>\n",
              "      <th>3</th>\n",
              "      <td>1</td>\n",
              "    </tr>\n",
              "  </tbody>\n",
              "</table>\n",
              "</div>"
            ],
            "text/plain": [
              "   y\n",
              "0  0\n",
              "1  1\n",
              "2  1\n",
              "3  1"
            ]
          },
          "metadata": {
            "tags": []
          },
          "execution_count": 87
        }
      ]
    },
    {
      "cell_type": "code",
      "metadata": {
        "colab": {
          "base_uri": "https://localhost:8080/",
          "height": 173
        },
        "id": "n50dNpC9BRFB",
        "outputId": "57ebafc4-0c22-40ed-d580-3b0eaf62debf"
      },
      "source": [
        "X = OR.drop(\"y\", axis=1)\n",
        "X"
      ],
      "execution_count": 88,
      "outputs": [
        {
          "output_type": "execute_result",
          "data": {
            "text/html": [
              "<div>\n",
              "<style scoped>\n",
              "    .dataframe tbody tr th:only-of-type {\n",
              "        vertical-align: middle;\n",
              "    }\n",
              "\n",
              "    .dataframe tbody tr th {\n",
              "        vertical-align: top;\n",
              "    }\n",
              "\n",
              "    .dataframe thead th {\n",
              "        text-align: right;\n",
              "    }\n",
              "</style>\n",
              "<table border=\"1\" class=\"dataframe\">\n",
              "  <thead>\n",
              "    <tr style=\"text-align: right;\">\n",
              "      <th></th>\n",
              "      <th>x1</th>\n",
              "      <th>x2</th>\n",
              "    </tr>\n",
              "  </thead>\n",
              "  <tbody>\n",
              "    <tr>\n",
              "      <th>0</th>\n",
              "      <td>0</td>\n",
              "      <td>0</td>\n",
              "    </tr>\n",
              "    <tr>\n",
              "      <th>1</th>\n",
              "      <td>0</td>\n",
              "      <td>1</td>\n",
              "    </tr>\n",
              "    <tr>\n",
              "      <th>2</th>\n",
              "      <td>1</td>\n",
              "      <td>0</td>\n",
              "    </tr>\n",
              "    <tr>\n",
              "      <th>3</th>\n",
              "      <td>1</td>\n",
              "      <td>1</td>\n",
              "    </tr>\n",
              "  </tbody>\n",
              "</table>\n",
              "</div>"
            ],
            "text/plain": [
              "   x1  x2\n",
              "0   0   0\n",
              "1   0   1\n",
              "2   1   0\n",
              "3   1   1"
            ]
          },
          "metadata": {
            "tags": []
          },
          "execution_count": 88
        }
      ]
    },
    {
      "cell_type": "code",
      "metadata": {
        "colab": {
          "base_uri": "https://localhost:8080/"
        },
        "id": "lmP2IIkvBedH",
        "outputId": "d770905b-e0d8-41b1-b071-b91e7515dc5f"
      },
      "source": [
        "model = Perceptron(eta=0.01, epochs=10, activationFucntion= activationFunction)"
      ],
      "execution_count": 89,
      "outputs": [
        {
          "output_type": "stream",
          "text": [
            "weights: [-5.93812396e-05 -8.01434592e-05  1.44211282e-04]\n"
          ],
          "name": "stdout"
        }
      ]
    },
    {
      "cell_type": "code",
      "metadata": {
        "colab": {
          "base_uri": "https://localhost:8080/"
        },
        "id": "p0Cfe_OPBl0M",
        "outputId": "4eef22d0-5bf1-4ffe-fbde-4a941dba938c"
      },
      "source": [
        "model.fit(X, y)"
      ],
      "execution_count": 90,
      "outputs": [
        {
          "output_type": "stream",
          "text": [
            "X_with_bias: \n",
            " [[ 0.  0. -1.]\n",
            " [ 0.  1. -1.]\n",
            " [ 1.  0. -1.]\n",
            " [ 1.  1. -1.]]\n",
            "for epoch : 0\n",
            "predicted value : [0 0 0 0]\n",
            "error : \n",
            " 0    0\n",
            "1    1\n",
            "2    1\n",
            "3    1\n",
            "Name: y, dtype: int64\n",
            "updated weights : [ 0.01994062  0.01991986 -0.02985579]\n",
            "################ \n",
            "\n",
            "for epoch : 1\n",
            "predicted value : [1 1 1 1]\n",
            "error : \n",
            " 0   -1\n",
            "1    0\n",
            "2    0\n",
            "3    0\n",
            "Name: y, dtype: int64\n",
            "updated weights : [ 0.01994062  0.01991986 -0.01985579]\n",
            "################ \n",
            "\n",
            "for epoch : 2\n",
            "predicted value : [1 1 1 1]\n",
            "error : \n",
            " 0   -1\n",
            "1    0\n",
            "2    0\n",
            "3    0\n",
            "Name: y, dtype: int64\n",
            "updated weights : [ 0.01994062  0.01991986 -0.00985579]\n",
            "################ \n",
            "\n",
            "for epoch : 3\n",
            "predicted value : [1 1 1 1]\n",
            "error : \n",
            " 0   -1\n",
            "1    0\n",
            "2    0\n",
            "3    0\n",
            "Name: y, dtype: int64\n",
            "updated weights : [0.01994062 0.01991986 0.00014421]\n",
            "################ \n",
            "\n",
            "for epoch : 4\n",
            "predicted value : [0 1 1 1]\n",
            "error : \n",
            " 0    0\n",
            "1    0\n",
            "2    0\n",
            "3    0\n",
            "Name: y, dtype: int64\n",
            "updated weights : [0.01994062 0.01991986 0.00014421]\n",
            "################ \n",
            "\n",
            "for epoch : 5\n",
            "predicted value : [0 1 1 1]\n",
            "error : \n",
            " 0    0\n",
            "1    0\n",
            "2    0\n",
            "3    0\n",
            "Name: y, dtype: int64\n",
            "updated weights : [0.01994062 0.01991986 0.00014421]\n",
            "################ \n",
            "\n",
            "for epoch : 6\n",
            "predicted value : [0 1 1 1]\n",
            "error : \n",
            " 0    0\n",
            "1    0\n",
            "2    0\n",
            "3    0\n",
            "Name: y, dtype: int64\n",
            "updated weights : [0.01994062 0.01991986 0.00014421]\n",
            "################ \n",
            "\n",
            "for epoch : 7\n",
            "predicted value : [0 1 1 1]\n",
            "error : \n",
            " 0    0\n",
            "1    0\n",
            "2    0\n",
            "3    0\n",
            "Name: y, dtype: int64\n",
            "updated weights : [0.01994062 0.01991986 0.00014421]\n",
            "################ \n",
            "\n",
            "for epoch : 8\n",
            "predicted value : [0 1 1 1]\n",
            "error : \n",
            " 0    0\n",
            "1    0\n",
            "2    0\n",
            "3    0\n",
            "Name: y, dtype: int64\n",
            "updated weights : [0.01994062 0.01991986 0.00014421]\n",
            "################ \n",
            "\n",
            "for epoch : 9\n",
            "predicted value : [0 1 1 1]\n",
            "error : \n",
            " 0    0\n",
            "1    0\n",
            "2    0\n",
            "3    0\n",
            "Name: y, dtype: int64\n",
            "updated weights : [0.01994062 0.01991986 0.00014421]\n",
            "################ \n",
            "\n"
          ],
          "name": "stdout"
        }
      ]
    },
    {
      "cell_type": "markdown",
      "metadata": {
        "id": "XCOk3dIZB5LM"
      },
      "source": [
        "# XOR Gate Implementation"
      ]
    },
    {
      "cell_type": "code",
      "metadata": {
        "colab": {
          "base_uri": "https://localhost:8080/",
          "height": 173
        },
        "id": "4goywufEBqEo",
        "outputId": "4175cfc3-d813-4785-e08b-142f801ef088"
      },
      "source": [
        "data = {\"x1\":[0,0,1,1], \"x2\":[0,1,0,1], \"y\":[0,1,1,0]}\n",
        "\n",
        "XOR = pd.DataFrame(data)\n",
        "XOR"
      ],
      "execution_count": 94,
      "outputs": [
        {
          "output_type": "execute_result",
          "data": {
            "text/html": [
              "<div>\n",
              "<style scoped>\n",
              "    .dataframe tbody tr th:only-of-type {\n",
              "        vertical-align: middle;\n",
              "    }\n",
              "\n",
              "    .dataframe tbody tr th {\n",
              "        vertical-align: top;\n",
              "    }\n",
              "\n",
              "    .dataframe thead th {\n",
              "        text-align: right;\n",
              "    }\n",
              "</style>\n",
              "<table border=\"1\" class=\"dataframe\">\n",
              "  <thead>\n",
              "    <tr style=\"text-align: right;\">\n",
              "      <th></th>\n",
              "      <th>x1</th>\n",
              "      <th>x2</th>\n",
              "      <th>y</th>\n",
              "    </tr>\n",
              "  </thead>\n",
              "  <tbody>\n",
              "    <tr>\n",
              "      <th>0</th>\n",
              "      <td>0</td>\n",
              "      <td>0</td>\n",
              "      <td>0</td>\n",
              "    </tr>\n",
              "    <tr>\n",
              "      <th>1</th>\n",
              "      <td>0</td>\n",
              "      <td>1</td>\n",
              "      <td>1</td>\n",
              "    </tr>\n",
              "    <tr>\n",
              "      <th>2</th>\n",
              "      <td>1</td>\n",
              "      <td>0</td>\n",
              "      <td>1</td>\n",
              "    </tr>\n",
              "    <tr>\n",
              "      <th>3</th>\n",
              "      <td>1</td>\n",
              "      <td>1</td>\n",
              "      <td>0</td>\n",
              "    </tr>\n",
              "  </tbody>\n",
              "</table>\n",
              "</div>"
            ],
            "text/plain": [
              "   x1  x2  y\n",
              "0   0   0  0\n",
              "1   0   1  1\n",
              "2   1   0  1\n",
              "3   1   1  0"
            ]
          },
          "metadata": {
            "tags": []
          },
          "execution_count": 94
        }
      ]
    },
    {
      "cell_type": "code",
      "metadata": {
        "colab": {
          "base_uri": "https://localhost:8080/",
          "height": 173
        },
        "id": "Xpk8kQM3CD62",
        "outputId": "76d49fb2-7203-4e72-9a0e-090c5e56ddc3"
      },
      "source": [
        "X = XOR.drop(\"y\", axis=1)\n",
        "X"
      ],
      "execution_count": 95,
      "outputs": [
        {
          "output_type": "execute_result",
          "data": {
            "text/html": [
              "<div>\n",
              "<style scoped>\n",
              "    .dataframe tbody tr th:only-of-type {\n",
              "        vertical-align: middle;\n",
              "    }\n",
              "\n",
              "    .dataframe tbody tr th {\n",
              "        vertical-align: top;\n",
              "    }\n",
              "\n",
              "    .dataframe thead th {\n",
              "        text-align: right;\n",
              "    }\n",
              "</style>\n",
              "<table border=\"1\" class=\"dataframe\">\n",
              "  <thead>\n",
              "    <tr style=\"text-align: right;\">\n",
              "      <th></th>\n",
              "      <th>x1</th>\n",
              "      <th>x2</th>\n",
              "    </tr>\n",
              "  </thead>\n",
              "  <tbody>\n",
              "    <tr>\n",
              "      <th>0</th>\n",
              "      <td>0</td>\n",
              "      <td>0</td>\n",
              "    </tr>\n",
              "    <tr>\n",
              "      <th>1</th>\n",
              "      <td>0</td>\n",
              "      <td>1</td>\n",
              "    </tr>\n",
              "    <tr>\n",
              "      <th>2</th>\n",
              "      <td>1</td>\n",
              "      <td>0</td>\n",
              "    </tr>\n",
              "    <tr>\n",
              "      <th>3</th>\n",
              "      <td>1</td>\n",
              "      <td>1</td>\n",
              "    </tr>\n",
              "  </tbody>\n",
              "</table>\n",
              "</div>"
            ],
            "text/plain": [
              "   x1  x2\n",
              "0   0   0\n",
              "1   0   1\n",
              "2   1   0\n",
              "3   1   1"
            ]
          },
          "metadata": {
            "tags": []
          },
          "execution_count": 95
        }
      ]
    },
    {
      "cell_type": "code",
      "metadata": {
        "colab": {
          "base_uri": "https://localhost:8080/",
          "height": 173
        },
        "id": "rGcqp7kcCKpx",
        "outputId": "f4a24efc-8a20-4c5c-f212-69ce8a631f10"
      },
      "source": [
        "y = XOR[\"y\"]\n",
        "y.to_frame()"
      ],
      "execution_count": 96,
      "outputs": [
        {
          "output_type": "execute_result",
          "data": {
            "text/html": [
              "<div>\n",
              "<style scoped>\n",
              "    .dataframe tbody tr th:only-of-type {\n",
              "        vertical-align: middle;\n",
              "    }\n",
              "\n",
              "    .dataframe tbody tr th {\n",
              "        vertical-align: top;\n",
              "    }\n",
              "\n",
              "    .dataframe thead th {\n",
              "        text-align: right;\n",
              "    }\n",
              "</style>\n",
              "<table border=\"1\" class=\"dataframe\">\n",
              "  <thead>\n",
              "    <tr style=\"text-align: right;\">\n",
              "      <th></th>\n",
              "      <th>y</th>\n",
              "    </tr>\n",
              "  </thead>\n",
              "  <tbody>\n",
              "    <tr>\n",
              "      <th>0</th>\n",
              "      <td>0</td>\n",
              "    </tr>\n",
              "    <tr>\n",
              "      <th>1</th>\n",
              "      <td>1</td>\n",
              "    </tr>\n",
              "    <tr>\n",
              "      <th>2</th>\n",
              "      <td>1</td>\n",
              "    </tr>\n",
              "    <tr>\n",
              "      <th>3</th>\n",
              "      <td>0</td>\n",
              "    </tr>\n",
              "  </tbody>\n",
              "</table>\n",
              "</div>"
            ],
            "text/plain": [
              "   y\n",
              "0  0\n",
              "1  1\n",
              "2  1\n",
              "3  0"
            ]
          },
          "metadata": {
            "tags": []
          },
          "execution_count": 96
        }
      ]
    },
    {
      "cell_type": "code",
      "metadata": {
        "colab": {
          "base_uri": "https://localhost:8080/"
        },
        "id": "lAsPv1LZCNCX",
        "outputId": "ba921267-6e35-4283-eb11-7de2f7dbfef6"
      },
      "source": [
        "model = Perceptron(eta=0.01, epochs=50, activationFucntion= activationFunction)"
      ],
      "execution_count": 100,
      "outputs": [
        {
          "output_type": "stream",
          "text": [
            "weights: [ 3.20866531e-05 -1.03856934e-04  8.48404005e-05]\n"
          ],
          "name": "stdout"
        }
      ]
    },
    {
      "cell_type": "code",
      "metadata": {
        "colab": {
          "base_uri": "https://localhost:8080/"
        },
        "id": "dEJbsfg5CRBg",
        "outputId": "1d003561-46ed-4eb3-afa4-bd3d87bb76f6"
      },
      "source": [
        "model.fit(X, y)"
      ],
      "execution_count": 101,
      "outputs": [
        {
          "output_type": "stream",
          "text": [
            "X_with_bias: \n",
            " [[ 0.  0. -1.]\n",
            " [ 0.  1. -1.]\n",
            " [ 1.  0. -1.]\n",
            " [ 1.  1. -1.]]\n",
            "for epoch : 0\n",
            "predicted value : [0 0 0 0]\n",
            "error : \n",
            " 0    0\n",
            "1    1\n",
            "2    1\n",
            "3    0\n",
            "Name: y, dtype: int64\n",
            "updated weights : [ 0.01003209  0.00989614 -0.01991516]\n",
            "################ \n",
            "\n",
            "for epoch : 1\n",
            "predicted value : [1 1 1 1]\n",
            "error : \n",
            " 0   -1\n",
            "1    0\n",
            "2    0\n",
            "3   -1\n",
            "Name: y, dtype: int64\n",
            "updated weights : [ 3.20866531e-05 -1.03856934e-04  8.48404005e-05]\n",
            "################ \n",
            "\n",
            "for epoch : 2\n",
            "predicted value : [0 0 0 0]\n",
            "error : \n",
            " 0    0\n",
            "1    1\n",
            "2    1\n",
            "3    0\n",
            "Name: y, dtype: int64\n",
            "updated weights : [ 0.01003209  0.00989614 -0.01991516]\n",
            "################ \n",
            "\n",
            "for epoch : 3\n",
            "predicted value : [1 1 1 1]\n",
            "error : \n",
            " 0   -1\n",
            "1    0\n",
            "2    0\n",
            "3   -1\n",
            "Name: y, dtype: int64\n",
            "updated weights : [ 3.20866531e-05 -1.03856934e-04  8.48404005e-05]\n",
            "################ \n",
            "\n",
            "for epoch : 4\n",
            "predicted value : [0 0 0 0]\n",
            "error : \n",
            " 0    0\n",
            "1    1\n",
            "2    1\n",
            "3    0\n",
            "Name: y, dtype: int64\n",
            "updated weights : [ 0.01003209  0.00989614 -0.01991516]\n",
            "################ \n",
            "\n",
            "for epoch : 5\n",
            "predicted value : [1 1 1 1]\n",
            "error : \n",
            " 0   -1\n",
            "1    0\n",
            "2    0\n",
            "3   -1\n",
            "Name: y, dtype: int64\n",
            "updated weights : [ 3.20866531e-05 -1.03856934e-04  8.48404005e-05]\n",
            "################ \n",
            "\n",
            "for epoch : 6\n",
            "predicted value : [0 0 0 0]\n",
            "error : \n",
            " 0    0\n",
            "1    1\n",
            "2    1\n",
            "3    0\n",
            "Name: y, dtype: int64\n",
            "updated weights : [ 0.01003209  0.00989614 -0.01991516]\n",
            "################ \n",
            "\n",
            "for epoch : 7\n",
            "predicted value : [1 1 1 1]\n",
            "error : \n",
            " 0   -1\n",
            "1    0\n",
            "2    0\n",
            "3   -1\n",
            "Name: y, dtype: int64\n",
            "updated weights : [ 3.20866531e-05 -1.03856934e-04  8.48404005e-05]\n",
            "################ \n",
            "\n",
            "for epoch : 8\n",
            "predicted value : [0 0 0 0]\n",
            "error : \n",
            " 0    0\n",
            "1    1\n",
            "2    1\n",
            "3    0\n",
            "Name: y, dtype: int64\n",
            "updated weights : [ 0.01003209  0.00989614 -0.01991516]\n",
            "################ \n",
            "\n",
            "for epoch : 9\n",
            "predicted value : [1 1 1 1]\n",
            "error : \n",
            " 0   -1\n",
            "1    0\n",
            "2    0\n",
            "3   -1\n",
            "Name: y, dtype: int64\n",
            "updated weights : [ 3.20866531e-05 -1.03856934e-04  8.48404005e-05]\n",
            "################ \n",
            "\n",
            "for epoch : 10\n",
            "predicted value : [0 0 0 0]\n",
            "error : \n",
            " 0    0\n",
            "1    1\n",
            "2    1\n",
            "3    0\n",
            "Name: y, dtype: int64\n",
            "updated weights : [ 0.01003209  0.00989614 -0.01991516]\n",
            "################ \n",
            "\n",
            "for epoch : 11\n",
            "predicted value : [1 1 1 1]\n",
            "error : \n",
            " 0   -1\n",
            "1    0\n",
            "2    0\n",
            "3   -1\n",
            "Name: y, dtype: int64\n",
            "updated weights : [ 3.20866531e-05 -1.03856934e-04  8.48404005e-05]\n",
            "################ \n",
            "\n",
            "for epoch : 12\n",
            "predicted value : [0 0 0 0]\n",
            "error : \n",
            " 0    0\n",
            "1    1\n",
            "2    1\n",
            "3    0\n",
            "Name: y, dtype: int64\n",
            "updated weights : [ 0.01003209  0.00989614 -0.01991516]\n",
            "################ \n",
            "\n",
            "for epoch : 13\n",
            "predicted value : [1 1 1 1]\n",
            "error : \n",
            " 0   -1\n",
            "1    0\n",
            "2    0\n",
            "3   -1\n",
            "Name: y, dtype: int64\n",
            "updated weights : [ 3.20866531e-05 -1.03856934e-04  8.48404005e-05]\n",
            "################ \n",
            "\n",
            "for epoch : 14\n",
            "predicted value : [0 0 0 0]\n",
            "error : \n",
            " 0    0\n",
            "1    1\n",
            "2    1\n",
            "3    0\n",
            "Name: y, dtype: int64\n",
            "updated weights : [ 0.01003209  0.00989614 -0.01991516]\n",
            "################ \n",
            "\n",
            "for epoch : 15\n",
            "predicted value : [1 1 1 1]\n",
            "error : \n",
            " 0   -1\n",
            "1    0\n",
            "2    0\n",
            "3   -1\n",
            "Name: y, dtype: int64\n",
            "updated weights : [ 3.20866531e-05 -1.03856934e-04  8.48404005e-05]\n",
            "################ \n",
            "\n",
            "for epoch : 16\n",
            "predicted value : [0 0 0 0]\n",
            "error : \n",
            " 0    0\n",
            "1    1\n",
            "2    1\n",
            "3    0\n",
            "Name: y, dtype: int64\n",
            "updated weights : [ 0.01003209  0.00989614 -0.01991516]\n",
            "################ \n",
            "\n",
            "for epoch : 17\n",
            "predicted value : [1 1 1 1]\n",
            "error : \n",
            " 0   -1\n",
            "1    0\n",
            "2    0\n",
            "3   -1\n",
            "Name: y, dtype: int64\n",
            "updated weights : [ 3.20866531e-05 -1.03856934e-04  8.48404005e-05]\n",
            "################ \n",
            "\n",
            "for epoch : 18\n",
            "predicted value : [0 0 0 0]\n",
            "error : \n",
            " 0    0\n",
            "1    1\n",
            "2    1\n",
            "3    0\n",
            "Name: y, dtype: int64\n",
            "updated weights : [ 0.01003209  0.00989614 -0.01991516]\n",
            "################ \n",
            "\n",
            "for epoch : 19\n",
            "predicted value : [1 1 1 1]\n",
            "error : \n",
            " 0   -1\n",
            "1    0\n",
            "2    0\n",
            "3   -1\n",
            "Name: y, dtype: int64\n",
            "updated weights : [ 3.20866531e-05 -1.03856934e-04  8.48404005e-05]\n",
            "################ \n",
            "\n",
            "for epoch : 20\n",
            "predicted value : [0 0 0 0]\n",
            "error : \n",
            " 0    0\n",
            "1    1\n",
            "2    1\n",
            "3    0\n",
            "Name: y, dtype: int64\n",
            "updated weights : [ 0.01003209  0.00989614 -0.01991516]\n",
            "################ \n",
            "\n",
            "for epoch : 21\n",
            "predicted value : [1 1 1 1]\n",
            "error : \n",
            " 0   -1\n",
            "1    0\n",
            "2    0\n",
            "3   -1\n",
            "Name: y, dtype: int64\n",
            "updated weights : [ 3.20866531e-05 -1.03856934e-04  8.48404005e-05]\n",
            "################ \n",
            "\n",
            "for epoch : 22\n",
            "predicted value : [0 0 0 0]\n",
            "error : \n",
            " 0    0\n",
            "1    1\n",
            "2    1\n",
            "3    0\n",
            "Name: y, dtype: int64\n",
            "updated weights : [ 0.01003209  0.00989614 -0.01991516]\n",
            "################ \n",
            "\n",
            "for epoch : 23\n",
            "predicted value : [1 1 1 1]\n",
            "error : \n",
            " 0   -1\n",
            "1    0\n",
            "2    0\n",
            "3   -1\n",
            "Name: y, dtype: int64\n",
            "updated weights : [ 3.20866531e-05 -1.03856934e-04  8.48404005e-05]\n",
            "################ \n",
            "\n",
            "for epoch : 24\n",
            "predicted value : [0 0 0 0]\n",
            "error : \n",
            " 0    0\n",
            "1    1\n",
            "2    1\n",
            "3    0\n",
            "Name: y, dtype: int64\n",
            "updated weights : [ 0.01003209  0.00989614 -0.01991516]\n",
            "################ \n",
            "\n",
            "for epoch : 25\n",
            "predicted value : [1 1 1 1]\n",
            "error : \n",
            " 0   -1\n",
            "1    0\n",
            "2    0\n",
            "3   -1\n",
            "Name: y, dtype: int64\n",
            "updated weights : [ 3.20866531e-05 -1.03856934e-04  8.48404005e-05]\n",
            "################ \n",
            "\n",
            "for epoch : 26\n",
            "predicted value : [0 0 0 0]\n",
            "error : \n",
            " 0    0\n",
            "1    1\n",
            "2    1\n",
            "3    0\n",
            "Name: y, dtype: int64\n",
            "updated weights : [ 0.01003209  0.00989614 -0.01991516]\n",
            "################ \n",
            "\n",
            "for epoch : 27\n",
            "predicted value : [1 1 1 1]\n",
            "error : \n",
            " 0   -1\n",
            "1    0\n",
            "2    0\n",
            "3   -1\n",
            "Name: y, dtype: int64\n",
            "updated weights : [ 3.20866531e-05 -1.03856934e-04  8.48404005e-05]\n",
            "################ \n",
            "\n",
            "for epoch : 28\n",
            "predicted value : [0 0 0 0]\n",
            "error : \n",
            " 0    0\n",
            "1    1\n",
            "2    1\n",
            "3    0\n",
            "Name: y, dtype: int64\n",
            "updated weights : [ 0.01003209  0.00989614 -0.01991516]\n",
            "################ \n",
            "\n",
            "for epoch : 29\n",
            "predicted value : [1 1 1 1]\n",
            "error : \n",
            " 0   -1\n",
            "1    0\n",
            "2    0\n",
            "3   -1\n",
            "Name: y, dtype: int64\n",
            "updated weights : [ 3.20866531e-05 -1.03856934e-04  8.48404005e-05]\n",
            "################ \n",
            "\n",
            "for epoch : 30\n",
            "predicted value : [0 0 0 0]\n",
            "error : \n",
            " 0    0\n",
            "1    1\n",
            "2    1\n",
            "3    0\n",
            "Name: y, dtype: int64\n",
            "updated weights : [ 0.01003209  0.00989614 -0.01991516]\n",
            "################ \n",
            "\n",
            "for epoch : 31\n",
            "predicted value : [1 1 1 1]\n",
            "error : \n",
            " 0   -1\n",
            "1    0\n",
            "2    0\n",
            "3   -1\n",
            "Name: y, dtype: int64\n",
            "updated weights : [ 3.20866531e-05 -1.03856934e-04  8.48404005e-05]\n",
            "################ \n",
            "\n",
            "for epoch : 32\n",
            "predicted value : [0 0 0 0]\n",
            "error : \n",
            " 0    0\n",
            "1    1\n",
            "2    1\n",
            "3    0\n",
            "Name: y, dtype: int64\n",
            "updated weights : [ 0.01003209  0.00989614 -0.01991516]\n",
            "################ \n",
            "\n",
            "for epoch : 33\n",
            "predicted value : [1 1 1 1]\n",
            "error : \n",
            " 0   -1\n",
            "1    0\n",
            "2    0\n",
            "3   -1\n",
            "Name: y, dtype: int64\n",
            "updated weights : [ 3.20866531e-05 -1.03856934e-04  8.48404005e-05]\n",
            "################ \n",
            "\n",
            "for epoch : 34\n",
            "predicted value : [0 0 0 0]\n",
            "error : \n",
            " 0    0\n",
            "1    1\n",
            "2    1\n",
            "3    0\n",
            "Name: y, dtype: int64\n",
            "updated weights : [ 0.01003209  0.00989614 -0.01991516]\n",
            "################ \n",
            "\n",
            "for epoch : 35\n",
            "predicted value : [1 1 1 1]\n",
            "error : \n",
            " 0   -1\n",
            "1    0\n",
            "2    0\n",
            "3   -1\n",
            "Name: y, dtype: int64\n",
            "updated weights : [ 3.20866531e-05 -1.03856934e-04  8.48404005e-05]\n",
            "################ \n",
            "\n",
            "for epoch : 36\n",
            "predicted value : [0 0 0 0]\n",
            "error : \n",
            " 0    0\n",
            "1    1\n",
            "2    1\n",
            "3    0\n",
            "Name: y, dtype: int64\n",
            "updated weights : [ 0.01003209  0.00989614 -0.01991516]\n",
            "################ \n",
            "\n",
            "for epoch : 37\n",
            "predicted value : [1 1 1 1]\n",
            "error : \n",
            " 0   -1\n",
            "1    0\n",
            "2    0\n",
            "3   -1\n",
            "Name: y, dtype: int64\n",
            "updated weights : [ 3.20866531e-05 -1.03856934e-04  8.48404005e-05]\n",
            "################ \n",
            "\n",
            "for epoch : 38\n",
            "predicted value : [0 0 0 0]\n",
            "error : \n",
            " 0    0\n",
            "1    1\n",
            "2    1\n",
            "3    0\n",
            "Name: y, dtype: int64\n",
            "updated weights : [ 0.01003209  0.00989614 -0.01991516]\n",
            "################ \n",
            "\n",
            "for epoch : 39\n",
            "predicted value : [1 1 1 1]\n",
            "error : \n",
            " 0   -1\n",
            "1    0\n",
            "2    0\n",
            "3   -1\n",
            "Name: y, dtype: int64\n",
            "updated weights : [ 3.20866531e-05 -1.03856934e-04  8.48404005e-05]\n",
            "################ \n",
            "\n",
            "for epoch : 40\n",
            "predicted value : [0 0 0 0]\n",
            "error : \n",
            " 0    0\n",
            "1    1\n",
            "2    1\n",
            "3    0\n",
            "Name: y, dtype: int64\n",
            "updated weights : [ 0.01003209  0.00989614 -0.01991516]\n",
            "################ \n",
            "\n",
            "for epoch : 41\n",
            "predicted value : [1 1 1 1]\n",
            "error : \n",
            " 0   -1\n",
            "1    0\n",
            "2    0\n",
            "3   -1\n",
            "Name: y, dtype: int64\n",
            "updated weights : [ 3.20866531e-05 -1.03856934e-04  8.48404005e-05]\n",
            "################ \n",
            "\n",
            "for epoch : 42\n",
            "predicted value : [0 0 0 0]\n",
            "error : \n",
            " 0    0\n",
            "1    1\n",
            "2    1\n",
            "3    0\n",
            "Name: y, dtype: int64\n",
            "updated weights : [ 0.01003209  0.00989614 -0.01991516]\n",
            "################ \n",
            "\n",
            "for epoch : 43\n",
            "predicted value : [1 1 1 1]\n",
            "error : \n",
            " 0   -1\n",
            "1    0\n",
            "2    0\n",
            "3   -1\n",
            "Name: y, dtype: int64\n",
            "updated weights : [ 3.20866531e-05 -1.03856934e-04  8.48404005e-05]\n",
            "################ \n",
            "\n",
            "for epoch : 44\n",
            "predicted value : [0 0 0 0]\n",
            "error : \n",
            " 0    0\n",
            "1    1\n",
            "2    1\n",
            "3    0\n",
            "Name: y, dtype: int64\n",
            "updated weights : [ 0.01003209  0.00989614 -0.01991516]\n",
            "################ \n",
            "\n",
            "for epoch : 45\n",
            "predicted value : [1 1 1 1]\n",
            "error : \n",
            " 0   -1\n",
            "1    0\n",
            "2    0\n",
            "3   -1\n",
            "Name: y, dtype: int64\n",
            "updated weights : [ 3.20866531e-05 -1.03856934e-04  8.48404005e-05]\n",
            "################ \n",
            "\n",
            "for epoch : 46\n",
            "predicted value : [0 0 0 0]\n",
            "error : \n",
            " 0    0\n",
            "1    1\n",
            "2    1\n",
            "3    0\n",
            "Name: y, dtype: int64\n",
            "updated weights : [ 0.01003209  0.00989614 -0.01991516]\n",
            "################ \n",
            "\n",
            "for epoch : 47\n",
            "predicted value : [1 1 1 1]\n",
            "error : \n",
            " 0   -1\n",
            "1    0\n",
            "2    0\n",
            "3   -1\n",
            "Name: y, dtype: int64\n",
            "updated weights : [ 3.20866531e-05 -1.03856934e-04  8.48404005e-05]\n",
            "################ \n",
            "\n",
            "for epoch : 48\n",
            "predicted value : [0 0 0 0]\n",
            "error : \n",
            " 0    0\n",
            "1    1\n",
            "2    1\n",
            "3    0\n",
            "Name: y, dtype: int64\n",
            "updated weights : [ 0.01003209  0.00989614 -0.01991516]\n",
            "################ \n",
            "\n",
            "for epoch : 49\n",
            "predicted value : [1 1 1 1]\n",
            "error : \n",
            " 0   -1\n",
            "1    0\n",
            "2    0\n",
            "3   -1\n",
            "Name: y, dtype: int64\n",
            "updated weights : [ 3.20866531e-05 -1.03856934e-04  8.48404005e-05]\n",
            "################ \n",
            "\n"
          ],
          "name": "stdout"
        }
      ]
    },
    {
      "cell_type": "code",
      "metadata": {
        "colab": {
          "base_uri": "https://localhost:8080/"
        },
        "id": "Jlw5oDCZCTCf",
        "outputId": "d41d02fa-8def-4ffa-bf36-19892421b435"
      },
      "source": [
        " model.predict(X)"
      ],
      "execution_count": 102,
      "outputs": [
        {
          "output_type": "execute_result",
          "data": {
            "text/plain": [
              "array([0, 0, 0, 0])"
            ]
          },
          "metadata": {
            "tags": []
          },
          "execution_count": 102
        }
      ]
    },
    {
      "cell_type": "markdown",
      "metadata": {
        "id": "X5_f_9caCvDH"
      },
      "source": [
        "# Analysis with visulaization"
      ]
    },
    {
      "cell_type": "markdown",
      "metadata": {
        "id": "omhyVwIsC_19"
      },
      "source": [
        "1. AND Gate :  From the plot below, we can clearly classify the data points using a single lie (Linear classification)\n",
        "\n"
      ]
    },
    {
      "cell_type": "code",
      "metadata": {
        "colab": {
          "base_uri": "https://localhost:8080/",
          "height": 326
        },
        "id": "QPOzNhieCdx3",
        "outputId": "a797d731-39b6-4556-adcf-9f26c6d0f3ff"
      },
      "source": [
        "AND.plot(kind = \"scatter\", x=\"x1\", y= \"x2\", c=\"y\", s=50, cmap=\"winter\")\n",
        "plt.axhline(y=0, color=\"black\", linestyle=\"--\", linewidth =2)\n",
        "plt.axvline(x=0, color=\"black\", linestyle=\"--\", linewidth =2)\n",
        "plt.plot(np.linspace(0, 1.4), 1.5 - 1*np.linspace(0, 1.4), \"r--\")\n",
        "\n",
        "# x = np.linspace(0, 1.4) >> linespace gives 50 values by defualt \n",
        "# y = 1.5 - 1*np.linspace(0, 1.4) => y=mx+c"
      ],
      "execution_count": 110,
      "outputs": [
        {
          "output_type": "execute_result",
          "data": {
            "text/plain": [
              "[<matplotlib.lines.Line2D at 0x7fd906570b10>]"
            ]
          },
          "metadata": {
            "tags": []
          },
          "execution_count": 110
        },
        {
          "output_type": "display_data",
          "data": {
            "image/png": "[encoded data removed]",
            "text/plain": [
              "<Figure size 432x288 with 2 Axes>"
            ]
          },
          "metadata": {
            "tags": []
          }
        }
      ]
    },
    {
      "cell_type": "markdown",
      "metadata": {
        "id": "x8uhnCy4D-V4"
      },
      "source": [
        "2. OR Gate : From the plot below, we can clearly classify the data points using a single lie (Linear classification)"
      ]
    },
    {
      "cell_type": "code",
      "metadata": {
        "colab": {
          "base_uri": "https://localhost:8080/",
          "height": 326
        },
        "id": "GktYU269Dg_p",
        "outputId": "d7f6a76f-c3e4-4f8d-b301-a71a3e1453bf"
      },
      "source": [
        "OR.plot(kind = \"scatter\", x=\"x1\", y= \"x2\", c=\"y\", s=50, cmap=\"winter\")\n",
        "plt.axhline(y=0, color=\"black\", linestyle=\"--\", linewidth =2)\n",
        "plt.axvline(x=0, color=\"black\", linestyle=\"--\", linewidth =2)\n",
        "plt.plot(np.linspace(0, 0.8), 0.8 - 1*np.linspace(0, 0.8), \"r--\")"
      ],
      "execution_count": 121,
      "outputs": [
        {
          "output_type": "execute_result",
          "data": {
            "text/plain": [
              "[<matplotlib.lines.Line2D at 0x7fd905cecb90>]"
            ]
          },
          "metadata": {
            "tags": []
          },
          "execution_count": 121
        },
        {
          "output_type": "display_data",
          "data": {
            "image/png": "[encoded data removed]",
            "text/plain": [
              "<Figure size 432x288 with 2 Axes>"
            ]
          },
          "metadata": {
            "tags": []
          }
        }
      ]
    },
    {
      "cell_type": "markdown",
      "metadata": {
        "id": "1-iYrw8RECda"
      },
      "source": [
        "3. XOR Gate : Can we classify using single line like we can do for OR and AND gate examples? \n",
        "\n",
        "The answer is : NO, as we can see from the plot below, it's not possible. Hence, Perceptron can only solve linear data problems and not suitable for Non-linear data problems."
      ]
    },
    {
      "cell_type": "code",
      "metadata": {
        "colab": {
          "base_uri": "https://localhost:8080/",
          "height": 326
        },
        "id": "BRQepZNCED6J",
        "outputId": "ee0963e3-d916-41e5-d532-3474700f0724"
      },
      "source": [
        "XOR.plot(kind = \"scatter\", x=\"x1\", y= \"x2\", c=\"y\", s=50, cmap=\"winter\")"
      ],
      "execution_count": 106,
      "outputs": [
        {
          "output_type": "execute_result",
          "data": {
            "text/plain": [
              "<matplotlib.axes._subplots.AxesSubplot at 0x7fd90f009110>"
            ]
          },
          "metadata": {
            "tags": []
          },
          "execution_count": 106
        },
        {
          "output_type": "display_data",
          "data": {
            "image/png": "[encoded data removed]",
            "text/plain": [
              "<Figure size 432x288 with 2 Axes>"
            ]
          },
          "metadata": {
            "tags": []
          }
        }
      ]
    },
    {
      "cell_type": "code",
      "metadata": {
        "id": "m1M8P8XFEGZk"
      },
      "source": [
        ""
      ],
      "execution_count": null,
      "outputs": []
    }
  ]
}